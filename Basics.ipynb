{
 "cells": [
  {
   "cell_type": "code",
   "execution_count": 13,
   "metadata": {},
   "outputs": [],
   "source": [
    "import neurolab as nl \n",
    "import numpy as np\n",
    "import matplotlib.pyplot as plt\n",
    "\n",
    "%matplotlib inline\n"
   ]
  },
  {
   "cell_type": "markdown",
   "metadata": {},
   "source": [
    "# Perceptron"
   ]
  },
  {
   "cell_type": "code",
   "execution_count": 8,
   "metadata": {},
   "outputs": [],
   "source": [
    "num_dataset = np.array([[0.22,0.34,0],[0.21,0.37,0],[0.76,0.19,1],[0.04,0.14,1],[0.25,0.31,0]])\n",
    "features = num_dataset[:,:2]\n",
    "labels =num_dataset[:,2].reshape((num_dataset.shape[0],1))"
   ]
  },
  {
   "cell_type": "code",
   "execution_count": 10,
   "metadata": {
    "scrolled": false
   },
   "outputs": [
    {
     "data": {
      "text/plain": [
       "Text(0.5,1,'Input Data')"
      ]
     },
     "execution_count": 10,
     "metadata": {},
     "output_type": "execute_result"
    },
    {
     "data": {
      "image/png": "[encoded data removed]",
      "text/plain": [
       "<Figure size 432x288 with 1 Axes>"
      ]
     },
     "metadata": {},
     "output_type": "display_data"
    }
   ],
   "source": [
    "plt.scatter(features[:,0],features[:,1])\n",
    "plt.xlabel('Dimension 1')\n",
    "plt.ylabel('Dimension 2')\n",
    "plt.title('Input Data')"
   ]
  },
  {
   "cell_type": "code",
   "execution_count": 15,
   "metadata": {},
   "outputs": [],
   "source": [
    "dim1_min,dim1_max,dim2_min,dim2_max = 0,1,0,1\n",
    "num_output = labels.shape[1]"
   ]
  },
  {
   "cell_type": "code",
   "execution_count": 16,
   "metadata": {},
   "outputs": [],
   "source": [
    "dim1 = [dim1_min,dim1_max]\n",
    "dim2 = [dim2_min,dim2_max]\n"
   ]
  },
  {
   "cell_type": "code",
   "execution_count": 17,
   "metadata": {},
   "outputs": [],
   "source": [
    "perceptron = nl.net.newp([dim1,dim2],num_output)"
   ]
  },
  {
   "cell_type": "code",
   "execution_count": 19,
   "metadata": {},
   "outputs": [
    {
     "name": "stdout",
     "output_type": "stream",
     "text": [
      "The goal of learning is reached\n"
     ]
    },
    {
     "data": {
      "image/png": "[encoded data removed]",
      "text/plain": [
       "<Figure size 432x288 with 1 Axes>"
      ]
     },
     "metadata": {},
     "output_type": "display_data"
    }
   ],
   "source": [
    "error_progress = perceptron.train(features,labels,epochs = 100, show = 20, lr =0.03)\n",
    "plt.plot(error_progress)\n",
    "plt.xlabel('Number of epochs')\n",
    "plt.ylabel('Training error')\n",
    "plt.title('Training error progress')\n",
    "plt.grid()"
   ]
  },
  {
   "cell_type": "code",
   "execution_count": 20,
   "metadata": {},
   "outputs": [
    {
     "data": {
      "text/plain": [
       "array([[1.]])"
      ]
     },
     "execution_count": 20,
     "metadata": {},
     "output_type": "execute_result"
    }
   ],
   "source": [
    "perceptron.sim([[0.81,0.23]])"
   ]
  },
  {
   "cell_type": "code",
   "execution_count": 21,
   "metadata": {},
   "outputs": [
    {
     "data": {
      "text/plain": [
       "array([[0.]])"
      ]
     },
     "execution_count": 21,
     "metadata": {},
     "output_type": "execute_result"
    }
   ],
   "source": [
    "perceptron.sim([[0.27,0.42]])"
   ]
  },
  {
   "cell_type": "markdown",
   "metadata": {},
   "source": [
    "# Single Layer Neural Network"
   ]
  },
  {
   "cell_type": "code",
   "execution_count": 24,
   "metadata": {
    "scrolled": true
   },
   "outputs": [
    {
     "data": {
      "text/plain": [
       "array([[1. , 4. , 0. , 0. ],\n",
       "       [1.1, 3.9, 0. , 0. ],\n",
       "       [1.2, 4.1, 0. , 0. ],\n",
       "       [0.9, 3.7, 0. , 0. ],\n",
       "       [7. , 4. , 0. , 1. ],\n",
       "       [7.2, 4.1, 0. , 1. ],\n",
       "       [6.9, 3.9, 0. , 1. ],\n",
       "       [7.1, 4.2, 0. , 1. ],\n",
       "       [4. , 1. , 1. , 0. ],\n",
       "       [4.1, 0.9, 1. , 0. ],\n",
       "       [4.2, 1.1, 1. , 0. ],\n",
       "       [3.9, 0.8, 1. , 0. ],\n",
       "       [4. , 7. , 1. , 1. ],\n",
       "       [4.2, 7.2, 1. , 1. ],\n",
       "       [3.9, 7.1, 1. , 1. ],\n",
       "       [4.1, 6.8, 1. , 1. ]])"
      ]
     },
     "execution_count": 24,
     "metadata": {},
     "output_type": "execute_result"
    }
   ],
   "source": [
    "text = np.loadtxt('data_simple_nn.txt')\n",
    "data = text[:,0:2]\n",
    "labels = text[:,2:]\n",
    "text"
   ]
  },
  {
   "cell_type": "code",
   "execution_count": 26,
   "metadata": {
    "scrolled": true
   },
   "outputs": [
    {
     "data": {
      "text/plain": [
       "Text(0.5,1,'Input Data')"
      ]
     },
     "execution_count": 26,
     "metadata": {},
     "output_type": "execute_result"
    },
    {
     "data": {
      "image/png": "[encoded data removed]",
      "text/plain": [
       "<Figure size 432x288 with 1 Axes>"
      ]
     },
     "metadata": {},
     "output_type": "display_data"
    }
   ],
   "source": [
    "plt.scatter(data[:,0],data[:,1])\n",
    "plt.xlabel('Dimension 1')\n",
    "plt.ylabel('Dimension 2')\n",
    "plt.title('Input Data')"
   ]
  },
  {
   "cell_type": "code",
   "execution_count": 27,
   "metadata": {},
   "outputs": [],
   "source": [
    "dim1_min,dim1_max,dim2_min,dim2_max = data[:,0].min(),data[:,0].max(),data[:,1].min(),data[:,0].max()"
   ]
  },
  {
   "cell_type": "code",
   "execution_count": 30,
   "metadata": {},
   "outputs": [],
   "source": [
    "num_output = labels.shape[1]\n",
    "\n",
    "dim1 = [dim1_min,dim1_max]\n",
    "dim2 = [dim2_min,dim2_max]\n",
    "\n",
    "snn = nl.net.newp([dim1,dim2],num_output)\n"
   ]
  },
  {
   "cell_type": "code",
   "execution_count": 32,
   "metadata": {
    "scrolled": true
   },
   "outputs": [
    {
     "name": "stdout",
     "output_type": "stream",
     "text": [
      "Epoch: 20; Error: 4.0;\n",
      "Epoch: 40; Error: 4.0;\n",
      "Epoch: 60; Error: 4.0;\n",
      "Epoch: 80; Error: 4.0;\n",
      "Epoch: 100; Error: 4.0;\n",
      "The maximum number of train epochs is reached\n"
     ]
    }
   ],
   "source": [
    "error_progress = snn.train(data,labels,epochs =100, show =20, lr =0.03)"
   ]
  },
  {
   "cell_type": "code",
   "execution_count": 33,
   "metadata": {
    "scrolled": true
   },
   "outputs": [
    {
     "data": {
      "image/png": "[encoded data removed]",
      "text/plain": [
       "<Figure size 432x288 with 1 Axes>"
      ]
     },
     "metadata": {},
     "output_type": "display_data"
    }
   ],
   "source": [
    "plt.plot(error_progress)\n",
    "plt.xlabel('Number of epochs')\n",
    "plt.ylabel('training error')\n",
    "plt.title('Training error progress')\n",
    "plt.grid()"
   ]
  },
  {
   "cell_type": "code",
   "execution_count": 38,
   "metadata": {
    "scrolled": true
   },
   "outputs": [
    {
     "name": "stdout",
     "output_type": "stream",
     "text": [
      "Testing Data: \n",
      "\n",
      "[[0.3, 4.4], [4.3, 0.5], [4.6, 8]]\n",
      "Predictions: \n",
      "\n"
     ]
    },
    {
     "data": {
      "text/plain": [
       "[array([0., 0.]), array([1., 0.]), array([1., 1.])]"
      ]
     },
     "execution_count": 38,
     "metadata": {},
     "output_type": "execute_result"
    }
   ],
   "source": [
    "print('Testing Data: \\n')\n",
    "test_data = [[0.3,4.4],[4.3,0.5],[4.6,8]]\n",
    "print(test_data)\n",
    "prediction = [snn.sim([i])[0] for i in test_data]\n",
    "print('Predictions: \\n')\n",
    "prediction"
   ]
  },
  {
   "cell_type": "markdown",
   "metadata": {},
   "source": [
    "# Multi Layer Neural Network\n",
    "- y =3x^2+5"
   ]
  },
  {
   "cell_type": "code",
   "execution_count": 39,
   "metadata": {},
   "outputs": [],
   "source": [
    "min_vals =-20\n",
    "max_vals =20\n",
    "num_points =100\n",
    "x = np.linspace(min_vals,max_vals,num_points)\n",
    "y = 3*np.square(x)+5\n",
    "y/= np.linalg.norm(y)\n"
   ]
  },
  {
   "cell_type": "code",
   "execution_count": 41,
   "metadata": {
    "scrolled": true
   },
   "outputs": [
    {
     "data": {
      "text/plain": [
       "Text(0.5,1,'Data points')"
      ]
     },
     "execution_count": 41,
     "metadata": {},
     "output_type": "execute_result"
    },
    {
     "data": {
      "image/png": "[encoded data removed]",
      "text/plain": [
       "<Figure size 432x288 with 1 Axes>"
      ]
     },
     "metadata": {},
     "output_type": "display_data"
    }
   ],
   "source": [
    "data = x.reshape(num_points,1)\n",
    "labels = y.reshape(num_points,1)\n",
    "\n",
    "plt.scatter(data,labels)\n",
    "plt.xlabel('Dimension 1')\n",
    "plt.ylabel('Dimension 2')\n",
    "plt.title('Data points')"
   ]
  },
  {
   "cell_type": "code",
   "execution_count": 43,
   "metadata": {
    "scrolled": true
   },
   "outputs": [
    {
     "name": "stdout",
     "output_type": "stream",
     "text": [
      "Epoch: 100; Error: 0.07761716193244164;\n",
      "Epoch: 200; Error: 0.02663111249544336;\n",
      "Epoch: 300; Error: 0.07450616368117415;\n",
      "Epoch: 400; Error: 0.03469105970873495;\n",
      "Epoch: 500; Error: 0.02298592295343738;\n",
      "Epoch: 600; Error: 0.03422185322725963;\n",
      "Epoch: 700; Error: 0.03306454430636631;\n",
      "Epoch: 800; Error: 0.02114686112074053;\n",
      "Epoch: 900; Error: 0.018221398145088358;\n",
      "Epoch: 1000; Error: 0.020192514614798034;\n",
      "Epoch: 1100; Error: 0.02156045205971073;\n",
      "Epoch: 1200; Error: 0.01918835582297005;\n",
      "Epoch: 1300; Error: 0.016452302628250686;\n",
      "Epoch: 1400; Error: 0.015495171077635041;\n",
      "Epoch: 1500; Error: 0.016069399005232427;\n",
      "Epoch: 1600; Error: 0.017019191672912694;\n",
      "Epoch: 1700; Error: 0.01705107002899643;\n",
      "Epoch: 1800; Error: 0.016146264339980624;\n",
      "Epoch: 1900; Error: 0.015290166338034145;\n",
      "Epoch: 2000; Error: 0.01508919218192527;\n",
      "The maximum number of train epochs is reached\n"
     ]
    }
   ],
   "source": [
    "mlnn = nl.net.newff([[min_vals,max_vals]],[10,6,1])\n",
    "mlnn.trainf = nl.train.train_gd\n",
    "rror_progress = mlnn.train(data,labels,epochs =2000,show =100,goal =0.01)"
   ]
  },
  {
   "cell_type": "code",
   "execution_count": 44,
   "metadata": {},
   "outputs": [
    {
     "data": {
      "text/plain": [
       "Text(0.5,1,'Actual vs. Predicted')"
      ]
     },
     "execution_count": 44,
     "metadata": {},
     "output_type": "execute_result"
    },
    {
     "data": {
      "image/png": "[encoded data removed]",
      "text/plain": [
       "<Figure size 432x288 with 1 Axes>"
      ]
     },
     "metadata": {},
     "output_type": "display_data"
    }
   ],
   "source": [
    "output = mlnn.sim(data)\n",
    "y_pred = output.reshape(num_points)\n",
    "x_dense = np.linspace(min_vals,max_vals,num_points*2)\n",
    "y_dense_predict = mlnn.sim(x_dense.reshape(x_dense.size,1)).reshape(x_dense.size)\n",
    "\n",
    "plt.plot(x_dense,y_dense_predict,'-',x,y,'.',x, y_pred,'p')\n",
    "plt.title('Actual vs. Predicted')"
   ]
  }
 ],
 "metadata": {
  "kernelspec": {
   "display_name": "Python 3",
   "language": "python",
   "name": "python3"
  },
  "language_info": {
   "codemirror_mode": {
    "name": "ipython",
    "version": 3
   },
   "file_extension": ".py",
   "mimetype": "text/x-python",
   "name": "python",
   "nbconvert_exporter": "python",
   "pygments_lexer": "ipython3",
   "version": "3.6.5"
  }
 },
 "nbformat": 4,
 "nbformat_minor": 2
}
